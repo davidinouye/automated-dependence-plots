{
 "cells": [
  {
   "cell_type": "markdown",
   "metadata": {},
   "source": [
    "# Tutorial on Using Automated Dependence Plots"
   ]
  },
  {
   "cell_type": "code",
   "execution_count": 1,
   "metadata": {},
   "outputs": [],
   "source": [
    "%load_ext autoreload\n",
    "%autoreload 2\n",
    "import sys\n",
    "import os\n",
    "import urllib\n",
    "import numpy as np\n",
    "import scipy.stats\n",
    "import pandas as pd\n",
    "import matplotlib.pyplot as plt\n",
    "%matplotlib inline\n",
    "\n",
    "import helpers  # Demo helper functions\n",
    "\n",
    "sys.path.append(os.path.join('..'))\n",
    "from adp.curve import * \n",
    "from adp.utility import *\n",
    "from adp.plot import *\n",
    "from adp.funcs import *\n",
    "from adp.optim import *\n",
    "\n",
    "from sklearn.model_selection import train_test_split\n",
    "from sklearn.utils import shuffle\n",
    "from sklearn.mixture import GaussianMixture\n",
    "from sklearn.metrics import accuracy_score"
   ]
  },
  {
   "cell_type": "markdown",
   "metadata": {},
   "source": [
    "## Dataset\n",
    "\n",
    "Load the dataset used for training and testing the model. ```helpers.py``` contains functions that are used for loading certain types of data, so modify this file to load your own data, or simply load the data on this notebook directly. \n",
    "\n",
    "Here in this tutorial we will use [German Credit Data in UCI Repository](http://archive.ics.uci.edu/ml/datasets/statlog+(german+credit+data) ). \n",
    "\n",
    "Here we need the following information about the data used to train the model. \n",
    "\n",
    "* ```dtypes```: Pandas Series object indicating the type of the data value for each features\n",
    "\n",
    "* ```feature_labels```: 1-D array of strings containing the feature names for each dimension of the data\n"
   ]
  },
  {
   "cell_type": "code",
   "execution_count": 2,
   "metadata": {},
   "outputs": [],
   "source": [
    "# Fetch/download data\n",
    "D = helpers.fetch_german_data()\n",
    "X, y, dtypes, feature_labels = D['X'], D['y'], D['dtypes'], D['feature_labels']\n",
    "\n",
    "# SelectNumeric only\n",
    "numeric = ~is_categorical(dtypes)\n",
    "X = X[:, numeric]\n",
    "\n",
    "feature_labels = feature_labels[numeric]\n",
    "dtypes = dtypes[numeric]"
   ]
  },
  {
   "cell_type": "code",
   "execution_count": 3,
   "metadata": {},
   "outputs": [
    {
     "name": "stdout",
     "output_type": "stream",
     "text": [
      "# train 900\n",
      "# test 100\n"
     ]
    }
   ],
   "source": [
    "# Get train test splits\n",
    "X, y = shuffle(X, y, random_state=0)\n",
    "X_train, X_test, y_train, y_test = train_test_split(X, y, test_size=0.1, random_state=0)\n",
    "print('# train', len(y_train))\n",
    "print('# test', len(y_test))"
   ]
  },
  {
   "cell_type": "code",
   "execution_count": 4,
   "metadata": {},
   "outputs": [
    {
     "data": {
      "text/plain": [
       "(duration          float64\n",
       " amount            float64\n",
       " inst_rate         float64\n",
       " residing_since    float64\n",
       " age               float64\n",
       " num_credits       float64\n",
       " dependents        float64\n",
       " dtype: object,\n",
       " pandas.core.series.Series)"
      ]
     },
     "execution_count": 4,
     "metadata": {},
     "output_type": "execute_result"
    }
   ],
   "source": [
    "dtypes, type(dtypes)"
   ]
  },
  {
   "cell_type": "code",
   "execution_count": 5,
   "metadata": {},
   "outputs": [
    {
     "data": {
      "text/plain": [
       "array(['duration', 'amount', 'inst_rate', 'residing_since', 'age',\n",
       "       'num_credits', 'dependents'], dtype=object)"
      ]
     },
     "execution_count": 5,
     "metadata": {},
     "output_type": "execute_result"
    }
   ],
   "source": [
    "feature_labels"
   ]
  },
  {
   "cell_type": "markdown",
   "metadata": {},
   "source": [
    "## Train Your Model\n",
    "\n",
    "Train your model here, or load a pre-trained model here so that the explanation can make use of it. Here, we train a random forest classifier, using a method from ```helper.py``` module. You can define your own model too. "
   ]
  },
  {
   "cell_type": "code",
   "execution_count": 6,
   "metadata": {},
   "outputs": [
    {
     "name": "stdout",
     "output_type": "stream",
     "text": [
      "0.77\n",
      "0.63\n"
     ]
    }
   ],
   "source": [
    "mm = helpers.create_model('RandomForest', dtypes, random_state=0)\n",
    "model = mm['estimator']\n",
    "model.fit(X_train, y_train)\n",
    "\n",
    "print(accuracy_score(model.predict(X_train), y_train))\n",
    "print(accuracy_score(model.predict(X_test), y_test))"
   ]
  },
  {
   "cell_type": "markdown",
   "metadata": {},
   "source": [
    "## Model Wrapper\n",
    "\n",
    "Because our method is a model-agnostic method for black-box classifiers, all information we need from the model is what its output is for a given input. To do this, simply create a model wrapper which takes in input data and outputs the model's prediction value. The internals (e.g. how you implemented your model) do not matter as long as the output value is returned for the given input. The output value for each input has to be a scalar. "
   ]
  },
  {
   "cell_type": "code",
   "execution_count": 7,
   "metadata": {},
   "outputs": [],
   "source": [
    "def model_wrapper(X, model=model):\n",
    "    func = mm['get_model'](mm['estimator'])\n",
    "    return func(X)"
   ]
  },
  {
   "cell_type": "code",
   "execution_count": 8,
   "metadata": {},
   "outputs": [
    {
     "data": {
      "text/plain": [
       "array([ 1.14610215,  0.91336538,  0.40663619,  0.61010093,  1.24777002,\n",
       "        1.22148368,  1.76599849,  1.61604803,  1.16966155,  1.53767172,\n",
       "        1.23748284,  1.50612591,  0.66294265,  0.91846688,  0.80681493,\n",
       "        1.06351375,  1.11851639,  0.59341603,  0.30959386,  1.08636112,\n",
       "        0.2925898 ,  0.94609443, -0.15118728,  1.14678723,  1.2025753 ,\n",
       "        1.26910712,  0.53809867,  0.17697172,  0.80515122,  1.41579225,\n",
       "        1.05923926,  0.88437299,  0.77335172,  1.1319298 ,  1.20815987,\n",
       "        1.64720814,  0.92917746,  1.29280406,  0.50355338,  1.11522329,\n",
       "        2.51028317,  1.14279395, -0.1507316 ,  0.45080385,  0.16983558,\n",
       "        1.6085242 ,  0.52356182, -0.39464671,  1.11968349,  1.10805518,\n",
       "        1.07218617,  0.91597301,  1.41280882,  1.1817498 , -0.71103986,\n",
       "        0.6180506 ,  0.88049207,  2.15555311,  0.98610913,  1.08506922,\n",
       "        0.88583058,  0.87322504,  1.2407276 , -0.53090128,  0.9573365 ,\n",
       "        0.86534598, -0.90035015,  0.71314707,  0.99297718,  1.64612532,\n",
       "        1.80580637,  0.95414974,  0.37493087,  1.57368868,  1.16652312,\n",
       "        0.89501848,  0.75497993,  1.04987897,  0.86976598,  1.28011569,\n",
       "        2.31588542,  0.61747005,  0.91999618,  1.57624602,  1.4018357 ,\n",
       "        0.19001019,  2.45498481,  0.92665854,  1.55512303,  1.0589943 ,\n",
       "        0.74025175, -0.08756473,  1.01471191,  1.10769055,  0.86366845,\n",
       "        1.1688618 , -1.75737629,  1.14631406,  1.40255449,  0.90150934])"
      ]
     },
     "execution_count": 8,
     "metadata": {},
     "output_type": "execute_result"
    }
   ],
   "source": [
    "model_wrapper(X_test)"
   ]
  },
  {
   "cell_type": "markdown",
   "metadata": {},
   "source": [
    "## Utility Functions   \n",
    "\n",
    "Define a utility function to use for the explanation. This depends on what type of behavior you are expecting along the direction the explanation is optimizing for. Examples of the utility functions can be found in ```adp/utility.py```. Here we list some of them and describe what they do.\n",
    "\n",
    "* ```ModelContrastUtility```: measures the deviance from another model's output values\n",
    "\n",
    "* ```LeastConstantUtility```: measures the deviance the original prediction value of the target point\n",
    "\n",
    "* ```LeastMonotonicUtility```: measures how monotonic the function values are (larger means less monotonic)\n",
    "\n",
    "Define the utility function to use by initializing the class with the model wrapper as an argument."
   ]
  },
  {
   "cell_type": "code",
   "execution_count": 9,
   "metadata": {},
   "outputs": [],
   "source": [
    "utility = LeastMonotonicUtility(model_wrapper)"
   ]
  },
  {
   "cell_type": "markdown",
   "metadata": {
    "collapsed": true
   },
   "source": [
    "## Target Point \n",
    "\n",
    "Set a target point, or a data point that you want the explanation for."
   ]
  },
  {
   "cell_type": "code",
   "execution_count": 10,
   "metadata": {},
   "outputs": [
    {
     "name": "stdout",
     "output_type": "stream",
     "text": [
      "[1.200e+01 2.969e+03 4.000e+00 3.000e+00 2.500e+01 2.000e+00 1.000e+00]\n"
     ]
    }
   ],
   "source": [
    "x0 = X_test[0]\n",
    "print(x0)"
   ]
  },
  {
   "cell_type": "markdown",
   "metadata": {
    "collapsed": true
   },
   "source": [
    "## Optimization and Plotting"
   ]
  },
  {
   "cell_type": "markdown",
   "metadata": {},
   "source": [
    "Now we want to find the direction of the curve that optimizes (maximizes) the utility function defined above, starting from the target point specified. The direction can be univariate (coodinatewise) and multivariate, and this option is controlled by the argument ```max_numeric_change``` in the function ```optimize_curve```. After you optimize, the curve object is returned, and you can plot the curve using the function ```plot_curve_vals```. "
   ]
  },
  {
   "cell_type": "markdown",
   "metadata": {
    "collapsed": true
   },
   "source": [
    "### Univariate Direction\n",
    "\n",
    "For the univariate direction, we set ```max_numeric_change=1``` for the argument. Note all other arguments that is required for optimizing and plotting. "
   ]
  },
  {
   "cell_type": "code",
   "execution_count": 11,
   "metadata": {},
   "outputs": [
    {
     "data": {
      "text/plain": [
       "<matplotlib.axes._subplots.AxesSubplot at 0x1a27a6ea50>"
      ]
     },
     "execution_count": 11,
     "metadata": {},
     "output_type": "execute_result"
    },
    {
     "data": {
      "image/png": "[encoded data removed]",
      "text/plain": [
       "<Figure size 432x288 with 1 Axes>"
      ]
     },
     "metadata": {
      "needs_background": "light"
     },
     "output_type": "display_data"
    }
   ],
   "source": [
    "best_curve = optimize_curve(X_test[3], utility, X, max_numeric_change=1, dtypes=dtypes)\n",
    "plot_curve_vals(best_curve, utility=utility, feature_labels=feature_labels)"
   ]
  },
  {
   "cell_type": "markdown",
   "metadata": {},
   "source": [
    "What the we find from above is that given a target point in red, the univariate direction that maximizes the ```LeastMonotonicUtility``` is ```amount``` of the loan (shown in x-axis label). In other words, changing ```amount``` feature values of the given target point results in the model's output value to change least monotonically. As the amount of the loan increases, the score of the predicted acceptance (y-axis) goes down according to the model. "
   ]
  },
  {
   "cell_type": "markdown",
   "metadata": {
    "collapsed": true
   },
   "source": [
    "### Multivariate Directions\n",
    "\n",
    "For multivariate directions, we set ```max_numeric_change``` as the number of variables you want to consider changing at the same time. "
   ]
  },
  {
   "cell_type": "code",
   "execution_count": 12,
   "metadata": {},
   "outputs": [
    {
     "data": {
      "text/plain": [
       "<matplotlib.axes._subplots.AxesSubplot at 0x1a29c40850>"
      ]
     },
     "execution_count": 12,
     "metadata": {},
     "output_type": "execute_result"
    },
    {
     "data": {
      "image/png": "[encoded data removed]",
      "text/plain": [
       "<Figure size 432x288 with 1 Axes>"
      ]
     },
     "metadata": {
      "needs_background": "light"
     },
     "output_type": "display_data"
    }
   ],
   "source": [
    "best_curve = optimize_curve(x0, utility, X, max_numeric_change=3, dtypes=dtypes)\n",
    "plot_curve_vals(best_curve, utility=utility, feature_labels=feature_labels)"
   ]
  },
  {
   "cell_type": "markdown",
   "metadata": {},
   "source": [
    "This time we are interested in changing three feature values at the same time, and we find that the least monotonic direction is obtained with changing ```duration``` of the loan, ```amount``` of the loan, and the number of years the person has been ```residing_since```. The values for each of these features are written in order along the x-axis. "
   ]
  }
 ],
 "metadata": {
  "kernelspec": {
   "display_name": "Python 3",
   "language": "python",
   "name": "python3"
  },
  "language_info": {
   "codemirror_mode": {
    "name": "ipython",
    "version": 3
   },
   "file_extension": ".py",
   "mimetype": "text/x-python",
   "name": "python",
   "nbconvert_exporter": "python",
   "pygments_lexer": "ipython3",
   "version": "3.7.7"
  }
 },
 "nbformat": 4,
 "nbformat_minor": 2
}
