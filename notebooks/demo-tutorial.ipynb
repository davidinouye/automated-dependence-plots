{
 "cells": [
  {
   "cell_type": "markdown",
   "metadata": {},
   "source": [
    "# Tutorial on Using Automated Dependence Plots"
   ]
  },
  {
   "cell_type": "code",
   "execution_count": 1,
   "metadata": {},
   "outputs": [
    {
     "name": "stderr",
     "output_type": "stream",
     "text": [
      "/Users/dinouye/anaconda3/envs/adp-env-3/lib/python3.7/site-packages/sklearn/ensemble/weight_boosting.py:29: DeprecationWarning: numpy.core.umath_tests is an internal NumPy module and should not be imported. It will be removed in a future NumPy release.\n",
      "  from numpy.core.umath_tests import inner1d\n"
     ]
    }
   ],
   "source": [
    "%load_ext autoreload\n",
    "%autoreload 2\n",
    "import sys\n",
    "import os\n",
    "import urllib\n",
    "import numpy as np\n",
    "import scipy.stats\n",
    "import pandas as pd\n",
    "import matplotlib.pyplot as plt\n",
    "%matplotlib inline\n",
    "\n",
    "import helpers  # Demo helper functions\n",
    "\n",
    "sys.path.append(os.path.join('..'))\n",
    "from counterfactual.curve import * \n",
    "from counterfactual.utility import *\n",
    "from counterfactual.plot import *\n",
    "from counterfactual.funcs import *\n",
    "from counterfactual.optim import *\n",
    "\n",
    "from sklearn.model_selection import train_test_split\n",
    "from sklearn.utils import shuffle\n",
    "from sklearn.mixture import GaussianMixture\n",
    "from sklearn.metrics import accuracy_score"
   ]
  },
  {
   "cell_type": "markdown",
   "metadata": {},
   "source": [
    "## Dataset\n",
    "\n",
    "Load the dataset used for training and testing the model. ```helpers.py``` contains functions that are used for loading certain types of data, so modify this file to load your own data, or simply load the data on this notebook directly. \n",
    "\n",
    "Here in this tutorial we will use [German Credit Data in UCI Repository](http://archive.ics.uci.edu/ml/datasets/statlog+(german+credit+data) ). \n",
    "\n",
    "Here we need the following information about the data used to train the model. \n",
    "\n",
    "* ```dtypes```: Pandas Series object indicating the type of the data value for each features\n",
    "\n",
    "* ```feature_labels```: 1-D array of strings containing the feature names for each dimension of the data\n"
   ]
  },
  {
   "cell_type": "code",
   "execution_count": 2,
   "metadata": {},
   "outputs": [],
   "source": [
    "# Fetch/download data\n",
    "D = helpers.fetch_german_data()\n",
    "X, y, dtypes, feature_labels = D['X'], D['y'], D['dtypes'], D['feature_labels']\n",
    "\n",
    "# SelectNumeric only\n",
    "numeric = ~is_categorical(dtypes)\n",
    "X = X[:, numeric]\n",
    "\n",
    "feature_labels = feature_labels[numeric]\n",
    "dtypes = dtypes[numeric]"
   ]
  },
  {
   "cell_type": "code",
   "execution_count": 3,
   "metadata": {},
   "outputs": [
    {
     "name": "stdout",
     "output_type": "stream",
     "text": [
      "# train 900\n",
      "# test 100\n"
     ]
    }
   ],
   "source": [
    "# Get train test splits\n",
    "X, y = shuffle(X, y, random_state=0)\n",
    "X_train, X_test, y_train, y_test = train_test_split(X, y, test_size=0.1, random_state=0)\n",
    "print('# train', len(y_train))\n",
    "print('# test', len(y_test))"
   ]
  },
  {
   "cell_type": "code",
   "execution_count": 4,
   "metadata": {},
   "outputs": [
    {
     "data": {
      "text/plain": [
       "(duration          float64\n",
       " amount            float64\n",
       " inst_rate         float64\n",
       " residing_since    float64\n",
       " age               float64\n",
       " num_credits       float64\n",
       " dependents        float64\n",
       " dtype: object,\n",
       " pandas.core.series.Series)"
      ]
     },
     "execution_count": 4,
     "metadata": {},
     "output_type": "execute_result"
    }
   ],
   "source": [
    "dtypes, type(dtypes)"
   ]
  },
  {
   "cell_type": "code",
   "execution_count": 5,
   "metadata": {},
   "outputs": [
    {
     "data": {
      "text/plain": [
       "array(['duration', 'amount', 'inst_rate', 'residing_since', 'age',\n",
       "       'num_credits', 'dependents'], dtype=object)"
      ]
     },
     "execution_count": 5,
     "metadata": {},
     "output_type": "execute_result"
    }
   ],
   "source": [
    "feature_labels"
   ]
  },
  {
   "cell_type": "markdown",
   "metadata": {},
   "source": [
    "## Train Your Model\n",
    "\n",
    "Train your model here, or load a pre-trained model here so that the explanation can make use of it. Here, we train a random forest classifier, using a method from ```helper.py``` module. You can define your own model too. "
   ]
  },
  {
   "cell_type": "code",
   "execution_count": 6,
   "metadata": {},
   "outputs": [
    {
     "name": "stdout",
     "output_type": "stream",
     "text": [
      "0.8077777777777778\n",
      "0.63\n"
     ]
    }
   ],
   "source": [
    "mm = helpers.create_model('RandomForest', dtypes, random_state=0)\n",
    "model = mm['estimator']\n",
    "model.fit(X_train, y_train)\n",
    "\n",
    "print(accuracy_score(model.predict(X_train), y_train))\n",
    "print(accuracy_score(model.predict(X_test), y_test))"
   ]
  },
  {
   "cell_type": "markdown",
   "metadata": {},
   "source": [
    "## Model Wrapper\n",
    "\n",
    "Because our method is a model-agnostic method for black-box classifiers, all information we need from the model is what its output is for a given input. To do this, simply create a model wrapper which takes in input data and outputs the model's prediction value. The internals (e.g. how you implemented your model) do not matter as long as the output value is returned for the given input. The output value for each input has to be a scalar. "
   ]
  },
  {
   "cell_type": "code",
   "execution_count": 7,
   "metadata": {},
   "outputs": [],
   "source": [
    "def model_wrapper(X, model=model):\n",
    "    func = mm['get_model'](mm['estimator'])\n",
    "    return func(X)"
   ]
  },
  {
   "cell_type": "code",
   "execution_count": 8,
   "metadata": {},
   "outputs": [
    {
     "data": {
      "text/plain": [
       "array([ 1.26125586,  0.92143936,  0.26182268,  0.61391486,  1.34992246,\n",
       "        1.40006676,  2.07450114,  2.0646817 ,  1.12592732,  1.69240801,\n",
       "        1.12229925,  1.92743726,  0.82890317,  1.27859222,  0.63035501,\n",
       "        0.84022924,  0.97806596,  0.55965563,  0.23915369,  1.10835523,\n",
       "        0.35841486,  0.7644372 , -0.51722348,  0.98769397,  1.22820459,\n",
       "        1.41499783,  0.53798969,  0.36802879,  0.68416752,  1.59896867,\n",
       "        1.08969596,  0.78583396,  0.36603783,  1.38417102,  1.30829725,\n",
       "        1.92365936,  0.73597789,  1.59417683,  1.1784609 ,  1.24233407,\n",
       "        2.87966119,  1.28503097, -0.38807663,  0.31140934,  0.41330805,\n",
       "        1.8771295 ,  0.7858666 , -0.24124854,  1.06351767,  1.28546903,\n",
       "        1.33435549,  0.67492977,  1.86085017,  1.24881233, -0.97709124,\n",
       "        0.64361909,  0.80428767,  2.39104171,  1.23177741,  1.15468126,\n",
       "        0.90094302,  0.90666444,  1.38598483, -0.83443818,  0.87405411,\n",
       "        0.93134606, -1.30398623,  0.29943478,  0.96501245,  2.06615556,\n",
       "        2.44137086,  0.91785698,  0.28651559,  1.89949332,  1.28992982,\n",
       "        0.90004355,  0.39253443,  1.16690483,  1.02436817,  1.60184279,\n",
       "        2.99943899,  0.35371505,  0.95889856,  1.888857  ,  1.23733355,\n",
       "        0.2424169 ,  2.70000048,  0.81599871,  1.82562526,  1.12070837,\n",
       "        0.86890674, -0.008041  ,  0.92816671,  1.30655741,  1.4100938 ,\n",
       "        1.46221314, -2.32220148,  1.21121445,  1.65453201,  0.87461879])"
      ]
     },
     "execution_count": 8,
     "metadata": {},
     "output_type": "execute_result"
    }
   ],
   "source": [
    "model_wrapper(X_test)"
   ]
  },
  {
   "cell_type": "markdown",
   "metadata": {},
   "source": [
    "## Utility Functions   \n",
    "\n",
    "Define a utility function to use for the explanation. This depends on what type of behavior you are expecting along the direction the explanation is optimizing for. Examples of the utility functions can be found in ```counterfactual/utility.py```. Here we list some of them and describe what they do.\n",
    "\n",
    "* ```LeastMonotonicUtility```: measures how least monotonic the function values are (larger means less monotonic)\n",
    "\n",
    "* ```TotalVariationUtility```: measures total variation\n",
    "\n",
    "* ```MostCurvatureUtility```: measures the curvature of the function values (large means more curvature)\n",
    "\n",
    "* ```ModelComparisonUtility```: measures the deviance from another model's output values\n",
    "\n",
    "Define the utility function to use by initializing the class with the model wrapper as an argument."
   ]
  },
  {
   "cell_type": "code",
   "execution_count": 9,
   "metadata": {},
   "outputs": [],
   "source": [
    "utility = LeastMonotonicUtility(model_wrapper)"
   ]
  },
  {
   "cell_type": "markdown",
   "metadata": {
    "collapsed": true
   },
   "source": [
    "## Target Point \n",
    "\n",
    "Set a target point, or a data point that you want the explanation for."
   ]
  },
  {
   "cell_type": "code",
   "execution_count": 10,
   "metadata": {},
   "outputs": [
    {
     "name": "stdout",
     "output_type": "stream",
     "text": [
      "[1.200e+01 2.969e+03 4.000e+00 3.000e+00 2.500e+01 2.000e+00 1.000e+00]\n"
     ]
    }
   ],
   "source": [
    "x0 = X_test[0]\n",
    "print(x0)"
   ]
  },
  {
   "cell_type": "markdown",
   "metadata": {
    "collapsed": true
   },
   "source": [
    "## Optimization and Plotting"
   ]
  },
  {
   "cell_type": "markdown",
   "metadata": {},
   "source": [
    "Now we want to find the direction of the curve that optimizes (maximizes) the utility function defined above, starting from the target point specified. The direction can be univariate (coodinatewise) and multivariate, and this option is controlled by the argument ```max_numeric_change``` in the function ```optimize_curve```. After you optimize, the curve object is returned, and you can plot the curve using the function ```plot_curve_vals```. "
   ]
  },
  {
   "cell_type": "markdown",
   "metadata": {
    "collapsed": true
   },
   "source": [
    "### Univariate Direction\n",
    "\n",
    "For the univariate direction, we set ```max_numeric_change=1``` for the argument. Note all other arguments that is required for optimizing and plotting. "
   ]
  },
  {
   "cell_type": "code",
   "execution_count": 11,
   "metadata": {},
   "outputs": [
    {
     "data": {
      "text/plain": [
       "<matplotlib.axes._subplots.AxesSubplot at 0x10f8cfd10>"
      ]
     },
     "execution_count": 11,
     "metadata": {},
     "output_type": "execute_result"
    },
    {
     "data": {
      "image/png": "[encoded data removed]",
      "text/plain": [
       "<Figure size 432x288 with 1 Axes>"
      ]
     },
     "metadata": {
      "needs_background": "light"
     },
     "output_type": "display_data"
    }
   ],
   "source": [
    "best_curve = optimize_curve(X_test[3], utility, X, max_numeric_change=1, dtypes=dtypes)\n",
    "plot_curve_vals(best_curve, utility=utility, feature_labels=feature_labels)"
   ]
  },
  {
   "cell_type": "markdown",
   "metadata": {},
   "source": [
    "What the we find from above is that given a target point in red, the univariate direction that maximizes the ```LeastMonotonicUtility``` is ```amount``` of the loan (shown in x-axis label). In other words, changing ```amount``` feature values of the given target point results in the model's output value to change least monotonically. As the amount of the loan increases, the score of the predicted acceptance (y-axis) goes down according to the model. "
   ]
  },
  {
   "cell_type": "markdown",
   "metadata": {
    "collapsed": true
   },
   "source": [
    "### Multivariate Directions\n",
    "\n",
    "For multivariate directions, we set ```max_numeric_change``` as the number of variables you want to consider changing at the same time. "
   ]
  },
  {
   "cell_type": "code",
   "execution_count": 12,
   "metadata": {},
   "outputs": [
    {
     "data": {
      "text/plain": [
       "<matplotlib.axes._subplots.AxesSubplot at 0x129bdb210>"
      ]
     },
     "execution_count": 12,
     "metadata": {},
     "output_type": "execute_result"
    },
    {
     "data": {
      "image/png": "[encoded data removed]",
      "text/plain": [
       "<Figure size 432x288 with 1 Axes>"
      ]
     },
     "metadata": {
      "needs_background": "light"
     },
     "output_type": "display_data"
    }
   ],
   "source": [
    "best_curve = optimize_curve(x0, utility, X, max_numeric_change=3, dtypes=dtypes)\n",
    "plot_curve_vals(best_curve, utility=utility, feature_labels=feature_labels)"
   ]
  },
  {
   "cell_type": "markdown",
   "metadata": {},
   "source": [
    "This time we are interested in changing three feature values at the same time, and we find that the least monotonic direction is obtained with changing ```duration``` of the loan, ```amount``` of the loan, and the number of years the person has been ```residing_since```. The values for each of these features are written in order along the x-axis. "
   ]
  }
 ],
 "metadata": {
  "kernelspec": {
   "display_name": "Python 3",
   "language": "python",
   "name": "python3"
  },
  "language_info": {
   "codemirror_mode": {
    "name": "ipython",
    "version": 3
   },
   "file_extension": ".py",
   "mimetype": "text/x-python",
   "name": "python",
   "nbconvert_exporter": "python",
   "pygments_lexer": "ipython3",
   "version": "3.7.7"
  }
 },
 "nbformat": 4,
 "nbformat_minor": 2
}
