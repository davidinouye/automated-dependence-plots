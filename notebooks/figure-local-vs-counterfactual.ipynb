{
 "cells": [
  {
   "cell_type": "code",
   "execution_count": 1,
   "metadata": {},
   "outputs": [
    {
     "name": "stderr",
     "output_type": "stream",
     "text": [
      "/Users/dinouye/anaconda3/envs/adp-env-3/lib/python3.7/site-packages/sklearn/ensemble/weight_boosting.py:29: DeprecationWarning: numpy.core.umath_tests is an internal NumPy module and should not be imported. It will be removed in a future NumPy release.\n",
      "  from numpy.core.umath_tests import inner1d\n",
      "../counterfactual/utils.py:4: UserWarning: Please use `funcs` module instead of `utils` module. Renamed to avoid confusion with `utility` module.\n",
      "  warnings.warn('Please use `funcs` module instead of `utils` module. '\n"
     ]
    }
   ],
   "source": [
    "%load_ext autoreload\n",
    "%autoreload 2\n",
    "import sys\n",
    "import os\n",
    "import urllib\n",
    "import numpy as np\n",
    "import pandas as pd\n",
    "import matplotlib.pyplot as plt\n",
    "%matplotlib inline\n",
    "import matplotlib\n",
    "matplotlib.rcParams['pdf.fonttype'] = 42\n",
    "matplotlib.rcParams['ps.fonttype'] = 42\n",
    "\n",
    "import helpers\n",
    "\n",
    "sys.path.append(os.path.join('..'))\n",
    "from counterfactual.curve import * \n",
    "from counterfactual.utility import *\n",
    "from counterfactual.plot import *\n",
    "from counterfactual.utils import *\n",
    "from counterfactual.optim import *\n"
   ]
  },
  {
   "cell_type": "code",
   "execution_count": 2,
   "metadata": {},
   "outputs": [],
   "source": [
    "res = helpers.fetch_german_data()\n",
    "df = res['dataframe']\n",
    "X = res['X']\n",
    "y = res['y']\n",
    "dtypes = res['dtypes']\n",
    "feature_labels = res['feature_labels']"
   ]
  },
  {
   "cell_type": "code",
   "execution_count": 5,
   "metadata": {},
   "outputs": [
    {
     "name": "stderr",
     "output_type": "stream",
     "text": [
      "/Users/dinouye/anaconda3/envs/adp-env-3/lib/python3.7/site-packages/sklearn/model_selection/_split.py:2026: FutureWarning: From version 0.21, test_size will always complement train_size unless both are specified.\n",
      "  FutureWarning)\n"
     ]
    },
    {
     "name": "stdout",
     "output_type": "stream",
     "text": [
      "{'randomforestclassifier__max_depth': 6, 'randomforestclassifier__n_estimators': 400}\n"
     ]
    }
   ],
   "source": [
    "from sklearn.preprocessing import OneHotEncoder, StandardScaler\n",
    "from sklearn.tree import DecisionTreeClassifier\n",
    "from sklearn.linear_model import LogisticRegression\n",
    "from sklearn.pipeline import Pipeline, make_pipeline\n",
    "from sklearn.model_selection import train_test_split, GridSearchCV, StratifiedKFold\n",
    "from sklearn.svm import SVC\n",
    "from sklearn.ensemble import RandomForestClassifier\n",
    "\n",
    "X_train, X_test, y_train, y_test = train_test_split(X, y, train_size=0.9, random_state=0)\n",
    "pipe = make_pipeline(\n",
    "    OneHotEncoder(sparse=False, categorical_features=is_categorical(dtypes), \n",
    "                  n_values=np.array([len(dtype.categories) for dtype in dtypes if hasattr(dtype, 'categories')])),\n",
    "    StandardScaler(),\n",
    "    RandomForestClassifier(max_features=None, random_state=2)\n",
    ")\n",
    "param_grid = {\n",
    "    'randomforestclassifier__max_depth': [4, 5, 6],\n",
    "    'randomforestclassifier__n_estimators': [100, 200, 400],#[1, 2, 3, 4, 5],\n",
    "}\n",
    "rerun_cv_search = False  # Make true if you want to rerun CV search for best parameter\n",
    "if rerun_cv_search:\n",
    "    search = GridSearchCV(pipe, param_grid, iid=False, cv=StratifiedKFold(5, random_state=0),\n",
    "                          return_train_score=False, refit=True)\n",
    "    search.fit(X_train, y_train)\n",
    "    classifier = search.best_estimator_\n",
    "    print(search.best_params_)\n",
    "    print(search.best_score_)\n",
    "else:\n",
    "    # Just use known hyperparameters from previous run to simplify notebook run\n",
    "    best_params = {\n",
    "        'randomforestclassifier__max_depth': param_grid['randomforestclassifier__max_depth'][2], \n",
    "        'randomforestclassifier__n_estimators': param_grid['randomforestclassifier__n_estimators'][2]}\n",
    "    pipe = make_pipeline(\n",
    "        OneHotEncoder(sparse=False, categorical_features=is_categorical(dtypes), \n",
    "                      n_values=np.array([len(dtype.categories) for dtype in dtypes if hasattr(dtype, 'categories')])),\n",
    "        StandardScaler(),\n",
    "        RandomForestClassifier(\n",
    "            max_depth=best_params['randomforestclassifier__max_depth'],\n",
    "            n_estimators=best_params['randomforestclassifier__n_estimators'],\n",
    "            max_features=None, random_state=2)\n",
    "    )\n",
    "    pipe.fit(X_train, y_train)\n",
    "    classifier = pipe\n",
    "    print(best_params)\n",
    "\n",
    "def random_forest_model(X, classifier=classifier):\n",
    "    func = classifier.predict_proba\n",
    "    if np.asarray(X).ndim == 1:\n",
    "        return func(X.reshape(1, -1))[0][1]\n",
    "    return func(X)[:, 1]"
   ]
  },
  {
   "cell_type": "code",
   "execution_count": 6,
   "metadata": {},
   "outputs": [
    {
     "data": {
      "text/plain": [
       "0.9142299850932755"
      ]
     },
     "execution_count": 6,
     "metadata": {},
     "output_type": "execute_result"
    }
   ],
   "source": [
    "x0 = X[0, :]\n",
    "random_forest_model(x0, classifier=classifier)\n",
    "# Should be 0.9142299850932755"
   ]
  },
  {
   "cell_type": "code",
   "execution_count": 7,
   "metadata": {},
   "outputs": [],
   "source": [
    "scale = np.ones(x0.shape[0])\n",
    "num_features = [i for i in range(len(dtypes)) if dtypes[i] == 'float64']\n",
    "max_vals = np.max(X, axis=0)\n",
    "min_vals = np.min(X, axis=0)\n",
    "for i in num_features:\n",
    "    scale[i] = 0.01 * (max_vals[i] - min_vals[i])"
   ]
  },
  {
   "cell_type": "code",
   "execution_count": 8,
   "metadata": {},
   "outputs": [],
   "source": [
    "def compute_grad(x0, model, scale):\n",
    "    # select numerical values\n",
    "    num_features = [i for i in range(len(dtypes)) if dtypes[i] == 'float64']\n",
    "    vv = np.zeros(x0.shape[0])\n",
    "    vv[num_features] = 1\n",
    "    pdiff = []\n",
    "    for ii in range(x0.shape[0]):\n",
    "        pdiff.append((model(x0 + vv * scale) - model(x0)) / scale[ii])\n",
    "    return np.asarray(pdiff)\n",
    "\n",
    "# Comparison to local model\n",
    "def create_local_model(x0, model, scale):\n",
    "    gradf = compute_grad(x0, model, scale)\n",
    "    def local_model(X): # local model\n",
    "        if np.asarray(X).ndim == 1:\n",
    "            return model(x0) + np.dot(X - x0, gradf)\n",
    "        return np.ones(X.shape[0]) * (model(x0) + np.dot(X - x0, gradf))\n",
    "    return local_model\n",
    "\n",
    "def create_constant_utility(x0, model):\n",
    "    return GlobalModelUtility(model=model, other_model=create_local_model(x0, model, scale))\n",
    "\n",
    "x0 = X[1, :]\n",
    "# Could change to 3 if you want to see optimization over more than 1 coordinate\n",
    "n_numeric_change = np.arange(1) + 1\n",
    "constant_utility = create_constant_utility(x0, random_forest_model)\n",
    "best_curves_constant = [\n",
    "    optimize_curve(x0, constant_utility, X, max_numeric_change=nc, dtypes=dtypes)\n",
    "    for nc in n_numeric_change\n",
    "]"
   ]
  },
  {
   "cell_type": "code",
   "execution_count": 9,
   "metadata": {},
   "outputs": [
    {
     "data": {
      "image/png": "[encoded data removed]",
      "text/plain": [
       "<Figure size 660x330 with 1 Axes>"
      ]
     },
     "metadata": {
      "needs_background": "light"
     },
     "output_type": "display_data"
    }
   ],
   "source": [
    "def plot_curves(best_curves, utility):\n",
    "    n_change = len(best_curves)\n",
    "    fig, axes = plt.subplots(n_change, 1, figsize=np.array([8, 4*n_change])*0.55, dpi=150, sharey=True)\n",
    "    if n_change == 1:\n",
    "        axes = np.array([axes])\n",
    "    for c, ax in zip(best_curves, axes):\n",
    "        plot_curve_vals(c, utility=utility, feature_labels=feature_labels,\n",
    "                        other_model_label='Local Approx.', ax=ax)\n",
    "    fig.tight_layout()\n",
    "    \n",
    "plot_curves(best_curves_constant, constant_utility)\n",
    "ax = plt.gca()\n",
    "ax.set_ylabel('Probability')\n",
    "ax.set_xlabel('Loan Duration')\n",
    "\n",
    "#plt.tight_layout()\n",
    "plt.savefig('local2.pdf', bbox_inches='tight', pad_inches=0)"
   ]
  },
  {
   "cell_type": "code",
   "execution_count": null,
   "metadata": {},
   "outputs": [],
   "source": []
  }
 ],
 "metadata": {
  "kernelspec": {
   "display_name": "Python 3",
   "language": "python",
   "name": "python3"
  },
  "language_info": {
   "codemirror_mode": {
    "name": "ipython",
    "version": 3
   },
   "file_extension": ".py",
   "mimetype": "text/x-python",
   "name": "python",
   "nbconvert_exporter": "python",
   "pygments_lexer": "ipython3",
   "version": "3.7.7"
  }
 },
 "nbformat": 4,
 "nbformat_minor": 2
}
