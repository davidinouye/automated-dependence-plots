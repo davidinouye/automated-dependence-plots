{
 "cells": [
  {
   "cell_type": "code",
   "execution_count": 1,
   "metadata": {},
   "outputs": [
    {
     "name": "stderr",
     "output_type": "stream",
     "text": [
      "/Users/dinouye/anaconda3/envs/adp-env-3/lib/python3.7/site-packages/sklearn/ensemble/weight_boosting.py:29: DeprecationWarning: numpy.core.umath_tests is an internal NumPy module and should not be imported. It will be removed in a future NumPy release.\n",
      "  from numpy.core.umath_tests import inner1d\n"
     ]
    }
   ],
   "source": [
    "%load_ext autoreload\n",
    "%autoreload 2\n",
    "import sys\n",
    "import os\n",
    "import urllib\n",
    "import numpy as np\n",
    "import pandas as pd\n",
    "import matplotlib.pyplot as plt\n",
    "%matplotlib inline\n",
    "\n",
    "from sklearn.utils import shuffle\n",
    "from sklearn.model_selection import train_test_split\n",
    "\n",
    "import helpers  # Notebook helpers\n",
    "\n",
    "sys.path.append(os.path.join('..'))\n",
    "from adp.curve import * \n",
    "from adp.utility import *\n",
    "from adp.plot import *\n",
    "from adp.funcs import *\n",
    "from adp.optim import *"
   ]
  },
  {
   "cell_type": "code",
   "execution_count": 2,
   "metadata": {},
   "outputs": [
    {
     "name": "stdout",
     "output_type": "stream",
     "text": [
      "Seen data:884\n",
      "Unseen data:116\n",
      "# train 795\n",
      "# test 89\n"
     ]
    }
   ],
   "source": [
    "# Fetch/download data\n",
    "D = helpers.fetch_german_data()\n",
    "X, y, dtypes, feature_labels = D['X'], D['y'], D['dtypes'], D['feature_labels']\n",
    "\n",
    "# Split the data based on some feature value\n",
    "base_idx = np.where(X[:, 4] > 1000)[0]\n",
    "X_base = X[base_idx]\n",
    "y_base = y[base_idx]\n",
    "\n",
    "unseen_idx = np.where(X[:, 4] <= 1000)[0]\n",
    "X_unseen = X[unseen_idx]\n",
    "y_unseen = y[unseen_idx]\n",
    "print('Seen data:%d'%X_base.shape[0])\n",
    "print('Unseen data:%d'%(X_unseen.shape[0]))\n",
    "\n",
    "X_base, y_base = shuffle(X_base, y_base, random_state=0)\n",
    "X_train, X_test, y_train, y_test = train_test_split(X_base, y_base, test_size=0.1, random_state=0)\n",
    "print('# train', len(y_train))\n",
    "print('# test', len(y_test))"
   ]
  },
  {
   "cell_type": "code",
   "execution_count": 3,
   "metadata": {},
   "outputs": [
    {
     "name": "stdout",
     "output_type": "stream",
     "text": [
      "Training estimator because could not load from cache via file cached_model_29e958a9a8097784f1d20d6d248c2e6204c64914.pkl\n",
      "ep0\tloss:5.045573\n",
      "ep100\tloss:1.841568\n",
      "ep200\tloss:0.388063\n",
      "ep300\tloss:0.082025\n",
      "ep400\tloss:0.027464\n",
      "ep500\tloss:0.012387\n",
      "ep600\tloss:0.005891\n",
      "ep700\tloss:0.003309\n",
      "ep800\tloss:0.001936\n",
      "ep900\tloss:0.001216\n",
      "ep0\tloss:5.046082\n",
      "ep100\tloss:1.729759\n",
      "ep200\tloss:0.420211\n",
      "ep300\tloss:0.098066\n",
      "ep400\tloss:0.038704\n",
      "ep500\tloss:0.019498\n",
      "ep600\tloss:0.009941\n",
      "ep700\tloss:0.007441\n",
      "ep800\tloss:0.003206\n",
      "ep900\tloss:0.001912\n",
      "ep0\tloss:5.041961\n",
      "ep100\tloss:1.771978\n",
      "ep200\tloss:0.370291\n",
      "ep300\tloss:0.089311\n",
      "ep400\tloss:0.037372\n",
      "ep500\tloss:0.018989\n",
      "ep600\tloss:0.009998\n",
      "ep700\tloss:0.005633\n",
      "ep800\tloss:0.003230\n",
      "ep900\tloss:0.001896\n",
      "ep0\tloss:5.055800\n",
      "ep100\tloss:1.921190\n",
      "ep200\tloss:0.390562\n",
      "ep300\tloss:0.080883\n",
      "ep400\tloss:0.027813\n",
      "ep500\tloss:0.012155\n",
      "ep600\tloss:0.005922\n",
      "ep700\tloss:0.003206\n",
      "ep800\tloss:0.001957\n",
      "ep900\tloss:0.001124\n",
      "ep0\tloss:5.072895\n",
      "ep100\tloss:1.770623\n",
      "ep200\tloss:0.358722\n",
      "ep300\tloss:0.084237\n",
      "ep400\tloss:0.033833\n",
      "ep500\tloss:0.017403\n",
      "ep600\tloss:0.009125\n",
      "ep700\tloss:0.005070\n",
      "ep800\tloss:0.003067\n",
      "ep900\tloss:0.001746\n",
      "ep0\tloss:2.895990\n",
      "ep100\tloss:1.499979\n",
      "ep200\tloss:0.781771\n",
      "ep300\tloss:0.282224\n",
      "ep400\tloss:0.106974\n",
      "ep500\tloss:0.048239\n",
      "ep600\tloss:0.020642\n",
      "ep700\tloss:0.012044\n",
      "ep800\tloss:0.007380\n",
      "ep900\tloss:0.005245\n",
      "ep0\tloss:2.894857\n",
      "ep100\tloss:1.420415\n",
      "ep200\tloss:0.734680\n",
      "ep300\tloss:0.293959\n",
      "ep400\tloss:0.120290\n",
      "ep500\tloss:0.056465\n",
      "ep600\tloss:0.026287\n",
      "ep700\tloss:0.025265\n",
      "ep800\tloss:0.011608\n",
      "ep900\tloss:0.007957\n",
      "ep0\tloss:2.902414\n",
      "ep100\tloss:1.457536\n",
      "ep200\tloss:0.747523\n",
      "ep300\tloss:0.268232\n",
      "ep400\tloss:0.105748\n",
      "ep500\tloss:0.049620\n",
      "ep600\tloss:0.024913\n",
      "ep700\tloss:0.017099\n",
      "ep800\tloss:0.010866\n",
      "ep900\tloss:0.007446\n",
      "ep0\tloss:2.913547\n",
      "ep100\tloss:1.559621\n",
      "ep200\tloss:0.805629\n",
      "ep300\tloss:0.282663\n",
      "ep400\tloss:0.104269\n",
      "ep500\tloss:0.045195\n",
      "ep600\tloss:0.020663\n",
      "ep700\tloss:0.011308\n",
      "ep800\tloss:0.007758\n",
      "ep900\tloss:0.004490\n",
      "ep0\tloss:2.929229\n",
      "ep100\tloss:1.518902\n",
      "ep200\tloss:0.735467\n",
      "ep300\tloss:0.273688\n",
      "ep400\tloss:0.093938\n",
      "ep500\tloss:0.046288\n",
      "ep600\tloss:0.023829\n",
      "ep700\tloss:0.014536\n",
      "ep800\tloss:0.010620\n",
      "ep900\tloss:0.006712\n",
      "ep0\tloss:1.468154\n",
      "ep100\tloss:0.885654\n",
      "ep200\tloss:0.594401\n",
      "ep300\tloss:0.319801\n",
      "ep400\tloss:0.128423\n",
      "ep500\tloss:0.055042\n",
      "ep600\tloss:0.026081\n",
      "ep700\tloss:0.014348\n",
      "ep800\tloss:0.009041\n",
      "ep900\tloss:0.005982\n",
      "ep0\tloss:1.464242\n",
      "ep100\tloss:0.825303\n",
      "ep200\tloss:0.553643\n",
      "ep300\tloss:0.298146\n",
      "ep400\tloss:0.136371\n",
      "ep500\tloss:0.059507\n",
      "ep600\tloss:0.029641\n",
      "ep700\tloss:0.017984\n",
      "ep800\tloss:0.011560\n",
      "ep900\tloss:0.008611\n",
      "ep0\tloss:1.460261\n",
      "ep100\tloss:0.857290\n",
      "ep200\tloss:0.556770\n",
      "ep300\tloss:0.296321\n",
      "ep400\tloss:0.121696\n",
      "ep500\tloss:0.055474\n",
      "ep600\tloss:0.028694\n",
      "ep700\tloss:0.017396\n",
      "ep800\tloss:0.011722\n",
      "ep900\tloss:0.009337\n",
      "ep0\tloss:1.460378\n",
      "ep100\tloss:0.896737\n",
      "ep200\tloss:0.592409\n",
      "ep300\tloss:0.311618\n",
      "ep400\tloss:0.127549\n",
      "ep500\tloss:0.051674\n",
      "ep600\tloss:0.024572\n",
      "ep700\tloss:0.014045\n",
      "ep800\tloss:0.008752\n",
      "ep900\tloss:0.005937\n",
      "ep0\tloss:1.460780\n",
      "ep100\tloss:0.879209\n",
      "ep200\tloss:0.557778\n",
      "ep300\tloss:0.302634\n",
      "ep400\tloss:0.128498\n",
      "ep500\tloss:0.054107\n",
      "ep600\tloss:0.026923\n",
      "ep700\tloss:0.015905\n",
      "ep800\tloss:0.010608\n",
      "ep900\tloss:0.007012\n",
      "ep0\tloss:5.762435\n",
      "ep100\tloss:1.958683\n",
      "ep200\tloss:0.415310\n",
      "ep300\tloss:0.098270\n",
      "ep400\tloss:0.035916\n",
      "ep500\tloss:0.016344\n",
      "ep600\tloss:0.008045\n",
      "ep700\tloss:0.004346\n",
      "ep800\tloss:0.002415\n",
      "ep900\tloss:0.001355\n"
     ]
    },
    {
     "name": "stderr",
     "output_type": "stream",
     "text": [
      "/Users/dinouye/anaconda3/envs/adp-env-3/lib/python3.7/site-packages/torch/storage.py:34: FutureWarning: pickle support for Storage will be removed in 1.5. Use `torch.save` instead\n",
      "  warnings.warn(\"pickle support for Storage will be removed in 1.5. Use `torch.save` instead\", FutureWarning)\n"
     ]
    }
   ],
   "source": [
    "# Train models\n",
    "#model_names = ['RBFSVM', 'RandomForest', 'DNN', 'DecisionTree', 'GradientBoost']\n",
    "model_names = ['DNN']\n",
    "model_dicts = helpers.create_and_train_models(model_names, dtypes, X_train, y_train, X_test=X_test, y_test=y_test)\n",
    "model = model_dicts[0]['model']"
   ]
  },
  {
   "cell_type": "code",
   "execution_count": 4,
   "metadata": {},
   "outputs": [
    {
     "name": "stdout",
     "output_type": "stream",
     "text": [
      "Train score 1.0\n",
      "Test score 0.8202247191011236\n",
      "Unseen score 0.7758620689655172\n"
     ]
    }
   ],
   "source": [
    "from sklearn.metrics import accuracy_score\n",
    "unseen_score = accuracy_score(y_unseen, model_dicts[0]['estimator'].predict(X_unseen))\n",
    "model_dicts[0]['unseen_score'] = unseen_score\n",
    "print('Train score', model_dicts[0]['train_score'])\n",
    "print('Test score', model_dicts[0]['test_score'])\n",
    "print('Unseen score', model_dicts[0]['unseen_score'])"
   ]
  },
  {
   "cell_type": "code",
   "execution_count": 5,
   "metadata": {},
   "outputs": [],
   "source": [
    "def plot_curve(curve, utility, title_prefix=None):\n",
    "    # Plot best curve\n",
    "    model_scores = utility.model(X)\n",
    "    y_bounds = [np.min(model_scores), np.max(model_scores)]\n",
    "    n_rows, n_cols = 1, 1\n",
    "    fig, ax = plt.subplots(n_rows, n_cols, figsize=np.array([n_cols*6, n_rows*3])*0.8, dpi=100)\n",
    "    plot_curve_vals(curve=curve, utility=utility, feature_labels=feature_labels, y_bounds=y_bounds,\n",
    "                    auxiliary_scoring=None, tick_rotation=15, ax=ax)\n",
    "    ax.set_ylabel('Score')\n",
    "    if title_prefix is not None:\n",
    "        ax.set_title('%s\\n%s' % (title_prefix, ax.get_title()))\n",
    "\n",
    "def plot_best_explanation(X, utility, max_X_samples=100, n_grid=50, random_state=0, **plot_kwargs):\n",
    "    # Setup model and utility\n",
    "    \n",
    "    # Get samples\n",
    "    n_X_samples = min(max_X_samples, X.shape[0])\n",
    "    rng = check_random_state(random_state)\n",
    "    rand_idx = rng.permutation(X.shape[0])\n",
    "    X_sample = X[rand_idx[:n_X_samples]]\n",
    "\n",
    "    # Fit for every sample\n",
    "    best_curves = np.array([\n",
    "        optimize_curve(x0=xx, utility=utility, X=X, dtypes=dtypes, max_numeric_change=1)\n",
    "        for xx in X_sample\n",
    "    ])\n",
    "    best_utilities = np.array([utility(best_curve, n_grid=n_grid) for best_curve in best_curves])\n",
    "\n",
    "    # Choose best sample\n",
    "    best_idx = np.argmax(best_utilities)\n",
    "    best_curve = best_curves[best_idx]\n",
    "    \n",
    "    # Plot\n",
    "    plot_curve(best_curve, utility, **plot_kwargs)\n",
    "    return best_curve, rand_idx[best_idx], utility"
   ]
  },
  {
   "cell_type": "code",
   "execution_count": 6,
   "metadata": {},
   "outputs": [
    {
     "data": {
      "text/plain": [
       "array([[ 1., 15.,  3., ...,  1.,  1.,  0.],\n",
       "       [ 1., 24.,  0., ...,  1.,  0.,  0.],\n",
       "       [ 3., 24.,  3., ...,  1.,  0.,  0.],\n",
       "       ...,\n",
       "       [ 3., 30.,  1., ...,  1.,  1.,  0.],\n",
       "       [ 3., 60.,  2., ...,  1.,  0.,  0.],\n",
       "       [ 3., 36.,  1., ...,  1.,  0.,  0.]])"
      ]
     },
     "execution_count": 6,
     "metadata": {},
     "output_type": "execute_result"
    }
   ],
   "source": [
    "X_base"
   ]
  },
  {
   "cell_type": "code",
   "execution_count": 7,
   "metadata": {
    "scrolled": false
   },
   "outputs": [
    {
     "name": "stdout",
     "output_type": "stream",
     "text": [
      "Automatic pdb calling has been turned ON\n"
     ]
    },
    {
     "data": {
      "text/plain": [
       "checkin_acc                         no checking\n",
       "duration                                     12\n",
       "credit_history       existing credits paid back\n",
       "purpose                        radio/television\n",
       "amount                                     3077\n",
       "saving_acc                             < 100 DM\n",
       "present_emp_since                     1-4 years\n",
       "inst_rate                                     2\n",
       "personal_status                   male & single\n",
       "other_debtors                              none\n",
       "residing_since                                4\n",
       "property                           car or other\n",
       "age                                          52\n",
       "inst_plans                                 none\n",
       "housing                                     own\n",
       "num_credits                                   1\n",
       "job                            skilled employee\n",
       "dependents                                    1\n",
       "telephone                         has telephone\n",
       "foreign_worker                        foreigner\n",
       "status                                        1\n",
       "Name: 486, dtype: object"
      ]
     },
     "execution_count": 7,
     "metadata": {},
     "output_type": "execute_result"
    },
    {
     "data": {
      "image/png": "[encoded data removed]",
      "text/plain": [
       "<Figure size 480x240 with 1 Axes>"
      ]
     },
     "metadata": {
      "needs_background": "light"
     },
     "output_type": "display_data"
    }
   ],
   "source": [
    "%pdb on \n",
    "curve, idx, utility = plot_best_explanation(X_base, LeastMonotonicUtility(model), max_X_samples=1000, \n",
    "                                            title_prefix='Optimized Over Training (amount > 1000)')\n",
    "D['dataframe'].iloc[base_idx[idx]]"
   ]
  },
  {
   "cell_type": "code",
   "execution_count": 8,
   "metadata": {},
   "outputs": [
    {
     "data": {
      "text/plain": [
       "checkin_acc                              < 0 DM\n",
       "duration                                     24\n",
       "credit_history       existing credits paid back\n",
       "purpose                               car (new)\n",
       "amount                                      915\n",
       "saving_acc                  unknown/no sav acct\n",
       "present_emp_since                    >= 7 years\n",
       "inst_rate                                     4\n",
       "personal_status       female & divorced/married\n",
       "other_debtors                              none\n",
       "residing_since                                2\n",
       "property                           car or other\n",
       "age                                          29\n",
       "inst_plans                                 bank\n",
       "housing                                     own\n",
       "num_credits                                   1\n",
       "job                            skilled employee\n",
       "dependents                                    1\n",
       "telephone                          no telephone\n",
       "foreign_worker                        foreigner\n",
       "status                                        2\n",
       "Name: 240, dtype: object"
      ]
     },
     "execution_count": 8,
     "metadata": {},
     "output_type": "execute_result"
    },
    {
     "data": {
      "image/png": "[encoded data removed]",
      "text/plain": [
       "<Figure size 480x240 with 1 Axes>"
      ]
     },
     "metadata": {
      "needs_background": "light"
     },
     "output_type": "display_data"
    }
   ],
   "source": [
    "curve, idx, utility = plot_best_explanation(X_unseen, LeastMonotonicUtility(model), max_X_samples=1000,\n",
    "                                            title_prefix='Optimized Over Unseen (amount <= 1000)')\n",
    "D['dataframe'].iloc[unseen_idx[idx]]"
   ]
  },
  {
   "cell_type": "code",
   "execution_count": null,
   "metadata": {},
   "outputs": [],
   "source": []
  }
 ],
 "metadata": {
  "kernelspec": {
   "display_name": "Python 3",
   "language": "python",
   "name": "python3"
  },
  "language_info": {
   "codemirror_mode": {
    "name": "ipython",
    "version": 3
   },
   "file_extension": ".py",
   "mimetype": "text/x-python",
   "name": "python",
   "nbconvert_exporter": "python",
   "pygments_lexer": "ipython3",
   "version": "3.7.7"
  }
 },
 "nbformat": 4,
 "nbformat_minor": 2
}
